{
  "metadata": {
    "kernelspec": {
      "name": "python",
      "display_name": "Pyolite",
      "language": "python"
    },
    "language_info": {
      "codemirror_mode": {
        "name": "python",
        "version": 3
      },
      "file_extension": ".py",
      "mimetype": "text/x-python",
      "name": "python",
      "nbconvert_exporter": "python",
      "pygments_lexer": "ipython3",
      "version": "3.8"
    }
  },
  "nbformat_minor": 4,
  "nbformat": 4,
  "cells": [
    {
      "cell_type": "markdown",
      "source": "<center>\n    <img src=\"https://cf-courses-data.s3.us.cloud-object-storage.appdomain.cloud/IBMDeveloperSkillsNetwork-DS0105EN-SkillsNetwork/labs/Module2/images/SN_web_lightmode.png\" width=\"300\" alt=\"cognitiveclass.ai logo\">\n</center>\n",
      "metadata": {}
    },
    {
      "cell_type": "markdown",
      "source": "#### Add your code below following the instructions given in the course\n",
      "metadata": {}
    },
    {
      "cell_type": "markdown",
      "source": "<b> Exercise 2 - Create a markdown cell with title of the notebook </b>\n\n# Data Science Tools and Ecosystem",
      "metadata": {}
    },
    {
      "cell_type": "markdown",
      "source": "<b> Exercise 3 - Create a markdown cell for an introduction </b>\n\nData Science Tools and Ecosystem are summarized in this Jupyter Notebook.",
      "metadata": {}
    },
    {
      "cell_type": "markdown",
      "source": "<b> Exercise 10 - Insert a markdown cell to list objectives </b>\n\n<b> Objectives: </b>\n- To create markdown cell  to list some data science languages\n- To create a markdown cell to list some data science libraries\n- To create a table in a markdown cell to illustrate some data science tools\n- To write a code to show an example on how to evaluate a simple arithmetic operation in Python\n- To write a code to convert minutes to hours\n\n\n",
      "metadata": {}
    },
    {
      "cell_type": "markdown",
      "source": "<b> Exercise 4 - Create a mardown to list data science languages </b>\n\nSome of the most popular languages that Data Scientists use are:\n<ol>\n<li> Python </li> \n<li> R </li>\n<li> SQL (Structured Query Language) </li>      \n</ol>  \n\nSome other languages that Data Scientists use are:\n<ol>\n<li> Julia </li>\n<li> Java </li>\n<li> JavaScript </li>\n<li> Scala </li>\n<li> C++ </li>    \n</ol>",
      "metadata": {}
    },
    {
      "cell_type": "markdown",
      "source": "<b> Exercise 5 - Create a mardown cell to list data science libraries </b>\n\nSome of the commonly used libraries used by Data Scienctists include:\n<ol>\n<li> Scientific computing libraries such as Pandas and Numpy </li>\n<li> Visualization libraries such as Matplotlib and Seaborn </li>\n<li> Machine learning libraries such as Scikit-Learn library and Keras </li>\n<li> Deep Learning libraries such as TensorFlow and PyTorch\n<li> Libraries in other languages such VEGAS and Big DL in Scala language and ggplot2 in R\n</ol>",
      "metadata": {}
    },
    {
      "cell_type": "markdown",
      "source": "<b> Exercise 6 - Create a markdown cell with a table of Data Science tools </b>\n\nThe following table shows three development environment open source tool used in Data Science:\n\n|Data Science Tools|\n|------------------|\n|Jupyter Lab|\n|RStudio|\n|Apache Spark|",
      "metadata": {}
    },
    {
      "cell_type": "markdown",
      "source": "<b> Exercise 7 - Create a markdown cell introducing arithmetic expression examples </b>\n\n### Below are a few examples of evaluating arithmetic expressions in Python\n\n",
      "metadata": {}
    },
    {
      "cell_type": "markdown",
      "source": "<b> Exercise 8 - Create a code cell to multiply and add numbers </b>",
      "metadata": {}
    },
    {
      "cell_type": "code",
      "source": "# This is a simple arithmetic expression to multiply then add integers\na = (3*4)+5\nprint(a)",
      "metadata": {
        "trusted": true
      },
      "execution_count": 5,
      "outputs": [
        {
          "name": "stdout",
          "text": "17\n",
          "output_type": "stream"
        }
      ]
    },
    {
      "cell_type": "markdown",
      "source": "<b> Exercise 9 - Create a code cell to convert minutes to hours </b>",
      "metadata": {}
    },
    {
      "cell_type": "code",
      "source": "# The following code converts 200 minutes to hours by dividing by 60\n\nTime_minutes = 200\n\n# 1 hour = 60 minutes\nTime_hours = (Time_minutes)/60\n\nprint(Time_hours)",
      "metadata": {
        "trusted": true
      },
      "execution_count": 6,
      "outputs": [
        {
          "name": "stdout",
          "text": "3.3333333333333335\n",
          "output_type": "stream"
        }
      ]
    },
    {
      "cell_type": "markdown",
      "source": "<b> Exercise 11 - Create a markdown cell to indicate the Author's name\n## Author\nJaya Devi Bagelloo    ",
      "metadata": {}
    },
    {
      "cell_type": "code",
      "source": "",
      "metadata": {},
      "execution_count": null,
      "outputs": []
    }
  ]
}